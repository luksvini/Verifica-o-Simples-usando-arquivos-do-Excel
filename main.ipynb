{
 "cells": [
  {
   "cell_type": "code",
   "execution_count": 1,
   "metadata": {},
   "outputs": [],
   "source": [
    "\n",
    "# Passo a passo de solução\n",
    "\n",
    "# 1. Abrir os 6 arquivos em Excel\n",
    "\n",
    "#2. Para cada arquivo: \n",
    "    # 2.1 Verificar se algum valor na coluna Vendas daquele arquivo é maior que 55.000\n",
    "    "
   ]
  },
  {
   "cell_type": "code",
   "execution_count": 9,
   "metadata": {},
   "outputs": [
    {
     "data": {
      "text/plain": [
       "'No mês maio alguém bateu a meta. Vendedor: Hash, Vendas: 57312'"
      ]
     },
     "metadata": {},
     "output_type": "display_data"
    }
   ],
   "source": [
    "# 1. Abrir os 6 arquivos em Excel\n",
    "import pandas as pd\n",
    "lista_meses = [\"janeiro\", \n",
    "               \"fevereiro\",\n",
    "                \"março\", \n",
    "                \"abril\", \n",
    "                \"maio\", \n",
    "                \"junho\"]\n",
    "\n",
    "for mes in lista_meses:\n",
    "    tabela_vendas = pd.read_excel(f\"{mes}.xlsx\")\n",
    "    #2. Para cada arquivo: \n",
    "    # 2.1 Verificar se algum valor na coluna Vendas daquele arquivo é maior que 55.000\n",
    "    if (tabela_vendas[\"Vendas\"] > 55000).any():\n",
    "        vendedor = tabela_vendas.loc[tabela_vendas[\"Vendas\"] > 55000,\"Vendedor\"].values[0]\n",
    "        vendas = tabela_vendas.loc[tabela_vendas[\"Vendas\"] > 55000,\"Vendas\"].values[0]\n",
    "        display(f\"No mês {mes} alguém bateu a meta. Vendedor: {vendedor}, Vendas: {vendas}\")\n"
   ]
  }
 ],
 "metadata": {
  "kernelspec": {
   "display_name": "Python 3",
   "language": "python",
   "name": "python3"
  },
  "language_info": {
   "codemirror_mode": {
    "name": "ipython",
    "version": 3
   },
   "file_extension": ".py",
   "mimetype": "text/x-python",
   "name": "python",
   "nbconvert_exporter": "python",
   "pygments_lexer": "ipython3",
   "version": "3.12.1"
  }
 },
 "nbformat": 4,
 "nbformat_minor": 2
}
